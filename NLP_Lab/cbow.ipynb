{
  "nbformat": 4,
  "nbformat_minor": 0,
  "metadata": {
    "colab": {
      "provenance": []
    },
    "kernelspec": {
      "name": "python3",
      "display_name": "Python 3"
    },
    "language_info": {
      "name": "python"
    }
  },
  "cells": [
    {
      "cell_type": "code",
      "execution_count": null,
      "metadata": {
        "colab": {
          "base_uri": "https://localhost:8080/"
        },
        "id": "lQ6HZBI0pLDm",
        "outputId": "a8d41225-dc14-4477-f675-587b5fb6e8d4"
      },
      "outputs": [
        {
          "output_type": "stream",
          "name": "stdout",
          "text": [
            "vocaubltyty: ['coding', 'i', 'love', 'programming']\n",
            "bag of words represtation\n",
            "sentence[i+1]: [0, 1, 1, 1]\n",
            "sentence[i+1]: [1, 1, 1, 0]\n"
          ]
        },
        {
          "output_type": "stream",
          "name": "stderr",
          "text": [
            "[nltk_data] Downloading package punkt_tab to /root/nltk_data...\n",
            "[nltk_data]   Package punkt_tab is already up-to-date!\n"
          ]
        }
      ],
      "source": [
        "import nltk\n",
        "from nltk.tokenize import word_tokenize\n",
        "from collections import Counter\n",
        "\n",
        "nltk.download('punkt_tab')\n",
        "\n",
        "documents = [\"i love programming\" , \"i love coding\"]\n",
        "\n",
        "tokens = [word_tokenize(doc.lower()) for doc in documents]\n",
        "\n",
        "all_tokens = [token for sublist in tokens for token in sublist]\n",
        "\n",
        "vocabulary = sorted(list(set(all_tokens)))\n",
        "\n",
        "bag_of_words = []\n",
        "for doc in tokens:\n",
        "  word_count=Counter(doc)\n",
        "  word_vector=[word_count.get(word,0) for word in vocabulary]\n",
        "  bag_of_words.append(word_vector)\n",
        "\n",
        "print(\"vocaubltyty:\", vocabulary)\n",
        "print(\"bag of words represtation\")\n",
        "for i, bow in enumerate (bag_of_words):\n",
        "  print(f\"sentence[i+1]: {bow}\")"
      ]
    },
    {
      "cell_type": "code",
      "source": [
        "from textblob import TextBlob\n",
        "blob=TextBlob(\"the cutie little boy is playing with the cat\")\n",
        "blob.ngrams(n=2)\n",
        "blob.ngrams(n=3)"
      ],
      "metadata": {
        "colab": {
          "base_uri": "https://localhost:8080/"
        },
        "id": "0Fgv-m0xsq-N",
        "outputId": "9e144b3b-9033-47dd-9061-e0ff31dfa6dd"
      },
      "execution_count": null,
      "outputs": [
        {
          "output_type": "execute_result",
          "data": {
            "text/plain": [
              "[WordList(['the', 'cutie', 'little']),\n",
              " WordList(['cutie', 'little', 'boy']),\n",
              " WordList(['little', 'boy', 'is']),\n",
              " WordList(['boy', 'is', 'playing']),\n",
              " WordList(['is', 'playing', 'with']),\n",
              " WordList(['playing', 'with', 'the']),\n",
              " WordList(['with', 'the', 'cat'])]"
            ]
          },
          "metadata": {},
          "execution_count": 8
        }
      ]
    },
    {
      "cell_type": "code",
      "source": [],
      "metadata": {
        "id": "C19Zn1XUtotw"
      },
      "execution_count": null,
      "outputs": []
    }
  ]
}